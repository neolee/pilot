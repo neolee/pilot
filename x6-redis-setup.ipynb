{
 "cells": [
  {
   "cell_type": "markdown",
   "metadata": {},
   "source": [
    "# Redis 环境准备"
   ]
  },
  {
   "cell_type": "markdown",
   "metadata": {},
   "source": [
    "## macOS"
   ]
  },
  {
   "cell_type": "markdown",
   "metadata": {},
   "source": [
    "在命令行界面运行下列命令即可：\n",
    "\n",
    "```shell\n",
    "brew install redis\n",
    "brew service start redis\n",
    "```"
   ]
  },
  {
   "cell_type": "markdown",
   "metadata": {},
   "source": [
    "## Windows"
   ]
  },
  {
   "cell_type": "markdown",
   "metadata": {},
   "source": [
    "### 安装"
   ]
  },
  {
   "cell_type": "markdown",
   "metadata": {},
   "source": [
    "在命令行界面运行下列命令：\n",
    "\n",
    "```shell\n",
    "scoop install redis\n",
    "```"
   ]
  },
  {
   "cell_type": "markdown",
   "metadata": {},
   "source": [
    "### 作为 Windows 系统服务运行"
   ]
  },
  {
   "cell_type": "markdown",
   "metadata": {},
   "source": [
    "1. 将 Redis 安装目录加入系统 Path 路径\n",
    "\n",
    "* 在文件浏览器中找到 This PC（这台电脑）右键点击之，选择 Properties（属性设置）；\n",
    "* 在弹出的窗口中选择 Advanced system settings（高级系统设置）；\n",
    "* 在弹出的窗口中选择下面的 Environment Variables（环境变量）；\n",
    "* 在弹出的窗口中上面一个列表框里找到 Path 一项，双击打开编辑；\n",
    "* 在编辑窗口选择 New（新建），然后选择 Browse...（浏览），找到 `C:\\Users\\trust\\scoop\\apps\\redis\\current`，确认并关闭编辑窗口。\n",
    "\n",
    "2. 在 ConEMU 中打开一个 PowerShell (Admin) 会话窗口（如果有安全提示选择允许运行），然后执行下面的命令：\n",
    "\n",
    "```powershell\n",
    "cd C:\\Users\\trust\\scoop\\apps\\redis\\current\n",
    "redis-server.exe --service-install redis.windows-service.conf --loglevel verbose\n",
    "```\n",
    "\n",
    "3. 在 Windows 搜索栏输入 Services 找到并运行 Services 管理程序，如果上一步没有问题，打开的列表中应该有 Redis 一项，右键选择启动（Start）即可。"
   ]
  },
  {
   "cell_type": "markdown",
   "metadata": {},
   "source": [
    "## 验证"
   ]
  },
  {
   "cell_type": "markdown",
   "metadata": {},
   "source": [
    "在命令行界面运行 `redis-cli` 命令，如果前面 Redis 服务安装运行成功可以看到 Redis 环境的提示符：\n",
    "\n",
    "```shell\n",
    "127.0.0.1:6379>\n",
    "```"
   ]
  }
 ],
 "metadata": {
  "kernelspec": {
   "display_name": "Python 3",
   "language": "python",
   "name": "python3"
  },
  "language_info": {
   "codemirror_mode": {
    "name": "ipython",
    "version": 3
   },
   "file_extension": ".py",
   "mimetype": "text/x-python",
   "name": "python",
   "nbconvert_exporter": "python",
   "pygments_lexer": "ipython3",
   "version": "3.7.4"
  }
 },
 "nbformat": 4,
 "nbformat_minor": 4
}
